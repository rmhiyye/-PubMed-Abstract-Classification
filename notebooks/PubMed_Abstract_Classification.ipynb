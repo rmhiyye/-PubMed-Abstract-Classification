{
  "cells": [
    {
      "cell_type": "markdown",
      "metadata": {
        "id": "view-in-github",
        "colab_type": "text"
      },
      "source": [
        "<a href=\"https://colab.research.google.com/github/rmhiyye/-PubMed-Abstract-Classification/blob/main/notebooks/PubMed_Abstract_Classification.ipynb\" target=\"_parent\"><img src=\"https://colab.research.google.com/assets/colab-badge.svg\" alt=\"Open In Colab\"/></a>"
      ]
    },
    {
      "cell_type": "markdown",
      "source": [
        "#Assignment 1: PubMed Abstract Classification (Pytorch Version)"
      ],
      "metadata": {
        "id": "-QMXHNOlTG-P"
      },
      "id": "-QMXHNOlTG-P"
    },
    {
      "cell_type": "markdown",
      "source": [
        "###Student Infomation:\n",
        "\n",
        "Name: Yang Ye\n",
        "\n",
        "Email: rmhiyye@ucl.ac.uk"
      ],
      "metadata": {
        "id": "QOdqLuyUTZMN"
      },
      "id": "QOdqLuyUTZMN"
    },
    {
      "cell_type": "markdown",
      "source": [
        "#0. Set Environment"
      ],
      "metadata": {
        "id": "Fac42V98EXL9"
      },
      "id": "Fac42V98EXL9"
    },
    {
      "cell_type": "code",
      "source": [
        "# check GPU information in colab\n",
        "gpu_info = !nvidia-smi\n",
        "gpu_info = '\\n'.join(gpu_info)\n",
        "if gpu_info.find('failed') >= 0:\n",
        "  print('Not connected to a GPU')\n",
        "else:\n",
        "  print(gpu_info)"
      ],
      "metadata": {
        "colab": {
          "base_uri": "https://localhost:8080/"
        },
        "id": "eIKYtTKf7CeA",
        "outputId": "1477b354-8952-4bbc-e87a-ef2a9c163e94"
      },
      "id": "eIKYtTKf7CeA",
      "execution_count": null,
      "outputs": [
        {
          "output_type": "stream",
          "name": "stdout",
          "text": [
            "Thu Jan 19 20:24:55 2023       \n",
            "+-----------------------------------------------------------------------------+\n",
            "| NVIDIA-SMI 460.32.03    Driver Version: 460.32.03    CUDA Version: 11.2     |\n",
            "|-------------------------------+----------------------+----------------------+\n",
            "| GPU  Name        Persistence-M| Bus-Id        Disp.A | Volatile Uncorr. ECC |\n",
            "| Fan  Temp  Perf  Pwr:Usage/Cap|         Memory-Usage | GPU-Util  Compute M. |\n",
            "|                               |                      |               MIG M. |\n",
            "|===============================+======================+======================|\n",
            "|   0  Tesla T4            Off  | 00000000:00:04.0 Off |                    0 |\n",
            "| N/A   44C    P0    25W /  70W |      0MiB / 15109MiB |      0%      Default |\n",
            "|                               |                      |                  N/A |\n",
            "+-------------------------------+----------------------+----------------------+\n",
            "                                                                               \n",
            "+-----------------------------------------------------------------------------+\n",
            "| Processes:                                                                  |\n",
            "|  GPU   GI   CI        PID   Type   Process name                  GPU Memory |\n",
            "|        ID   ID                                                   Usage      |\n",
            "|=============================================================================|\n",
            "|  No running processes found                                                 |\n",
            "+-----------------------------------------------------------------------------+\n"
          ]
        }
      ]
    },
    {
      "cell_type": "markdown",
      "source": [
        "##Install neccessary libraries"
      ],
      "metadata": {
        "id": "Xq5tozgHxDWx"
      },
      "id": "Xq5tozgHxDWx"
    },
    {
      "cell_type": "code",
      "source": [
        "!pip install torch==1.8.0+cu111 torchvision==0.9.0+cu111 torchaudio==0.8.0 -f https://download.pytorch.org/whl/torch_stable.html\n",
        "!pip install torchtext==0.9.0"
      ],
      "metadata": {
        "id": "p_Ph8mnagQTy"
      },
      "id": "p_Ph8mnagQTy",
      "execution_count": null,
      "outputs": []
    },
    {
      "cell_type": "markdown",
      "source": [
        "##Import neccessary libraries"
      ],
      "metadata": {
        "id": "xNDrub0HQZr9"
      },
      "id": "xNDrub0HQZr9"
    },
    {
      "cell_type": "code",
      "execution_count": 1,
      "id": "1e2eb324",
      "metadata": {
        "colab": {
          "base_uri": "https://localhost:8080/"
        },
        "id": "1e2eb324",
        "outputId": "a3bd665d-e484-48e0-ba40-400a0dca5119"
      },
      "outputs": [
        {
          "output_type": "stream",
          "name": "stderr",
          "text": [
            "[nltk_data] Downloading package stopwords to /root/nltk_data...\n",
            "[nltk_data]   Unzipping corpora/stopwords.zip.\n"
          ]
        },
        {
          "output_type": "stream",
          "name": "stdout",
          "text": [
            "Mounted at /content/drive\n",
            "Done!\n"
          ]
        }
      ],
      "source": [
        "import numpy as np\n",
        "import pandas as pd\n",
        "import time\n",
        "\n",
        "import matplotlib.pyplot as plt\n",
        "from mpl_toolkits.axes_grid1 import host_subplot\n",
        "from sklearn.model_selection import train_test_split\n",
        "from sklearn.metrics import f1_score\n",
        "\n",
        "import torch\n",
        "import torch.nn as nn\n",
        "from torchtext.legacy import data\n",
        "import nltk\n",
        "nltk.download('stopwords')\n",
        "\n",
        "# from google drive\n",
        "from google.colab import drive\n",
        "drive.mount(\"/content/drive\")\n",
        "\n",
        "import os\n",
        "path = \"/content/drive/My Drive/nlp-week1\"\n",
        "os.chdir(path)\n",
        "os.listdir(path)\n",
        "\n",
        "import Tokeniser\n",
        "\n",
        "print('Done!')"
      ]
    },
    {
      "cell_type": "markdown",
      "source": [
        "# 1. Data Exploration"
      ],
      "metadata": {
        "id": "N4yZoyFJsPpL"
      },
      "id": "N4yZoyFJsPpL"
    },
    {
      "cell_type": "code",
      "execution_count": null,
      "id": "6e623609",
      "metadata": {
        "id": "6e623609",
        "colab": {
          "base_uri": "https://localhost:8080/"
        },
        "outputId": "7d46e3e5-9463-4d80-b207-00eafc55d809"
      },
      "outputs": [
        {
          "output_type": "stream",
          "name": "stdout",
          "text": [
            "There is 0 missing data in label.\n",
            "There is 1 missing data in Text.\n",
            "Missing data are removed.\n"
          ]
        }
      ],
      "source": [
        "# load the data from csv\n",
        "df = pd.read_csv(\"mesh.csv\")\n",
        "# drop 'path' columns and drop the row with missing data\n",
        "print(\"There is %d missing data in label.\" % df['label'].isnull().sum())\n",
        "print(\"There is %d missing data in Text.\" % df['Text'].isnull().sum())\n",
        "df = df.drop(columns = 'path')\n",
        "df = df.dropna(axis = 0)\n",
        "print(\"Missing data are removed.\")"
      ]
    },
    {
      "cell_type": "markdown",
      "source": [
        "## Label overview"
      ],
      "metadata": {
        "id": "fkRMNFx50Evl"
      },
      "id": "fkRMNFx50Evl"
    },
    {
      "cell_type": "code",
      "execution_count": null,
      "id": "73614b7d",
      "metadata": {
        "scrolled": true,
        "id": "73614b7d",
        "colab": {
          "base_uri": "https://localhost:8080/"
        },
        "outputId": "4054d0e8-9e14-433c-b9e3-cb659249b35c"
      },
      "outputs": [
        {
          "output_type": "stream",
          "name": "stdout",
          "text": [
            "Distribution:\n",
            "Eye Hemorrhage                  126\n",
            "Pupil Disorders                 188\n",
            "Scleral Diseases                201\n",
            "Eye Injuries                    435\n",
            "Refractive Errors               466\n",
            "Ocular Hypertension             577\n",
            "Lacrimal Apparatus Diseases     596\n",
            "Conjunctival Diseases           750\n",
            "Lens Diseases                   828\n",
            "Eye Abnormalities               859\n",
            "Eye Neoplasms                   917\n",
            "Eye Infections                 1149\n",
            "Eye Diseases, Hereditary       1245\n",
            "Uveal Diseases                 1291\n",
            "Corneal Diseases               1756\n",
            "Optic Nerve Diseases           1809\n",
            "Eyelid Diseases                1998\n",
            "Ocular Motility Disorders      2508\n",
            "Vision Disorders               2542\n",
            "Orbital Diseases               2776\n",
            "Retinal Diseases               4056\n",
            "Name: label, dtype: int64\n"
          ]
        },
        {
          "output_type": "execute_result",
          "data": {
            "text/plain": [
              "<matplotlib.axes._subplots.AxesSubplot at 0x7ff386763940>"
            ]
          },
          "metadata": {},
          "execution_count": 3
        },
        {
          "output_type": "display_data",
          "data": {
            "text/plain": [
              "<Figure size 432x288 with 1 Axes>"
            ],
            "image/png": "[encoded data removed]"
          },
          "metadata": {
            "needs_background": "light"
          }
        }
      ],
      "source": [
        "# show the distribution for labels\n",
        "counts = pd.value_counts(df['label'])\n",
        "print('Distribution:')\n",
        "print(pd.Series(counts).sort_values())\n",
        "pd.Series(counts).sort_values().plot.barh(fontsize=10, color=\"k\") # show the frequency of each label\n",
        "# dataset is imbalanced"
      ]
    },
    {
      "cell_type": "markdown",
      "source": [
        "##Text length analysis"
      ],
      "metadata": {
        "id": "HbNYugfn0Rcz"
      },
      "id": "HbNYugfn0Rcz"
    },
    {
      "cell_type": "code",
      "source": [
        "df_len = [len(text.split()) for text in df.Text]\n",
        "df_len_mean = round(np.mean(df_len))\n",
        "df_len_max = round(np.max(df_len))\n",
        "df_len_min = round(np.min(df_len))\n",
        "print('Statistical results for texts length:')\n",
        "print(\"mean:\" + str(df_len_mean) +  \"/ max:\" + str(df_len_max) + \"/ min:\" + str(df_len_min))"
      ],
      "metadata": {
        "id": "pwFquqgqhUO_",
        "colab": {
          "base_uri": "https://localhost:8080/"
        },
        "outputId": "a9f642ba-dbc5-4aa6-fbbf-00c076764e63"
      },
      "id": "pwFquqgqhUO_",
      "execution_count": null,
      "outputs": [
        {
          "output_type": "stream",
          "name": "stdout",
          "text": [
            "Statistical results for texts length:\n",
            "mean:125/ max:896/ min:8\n"
          ]
        }
      ]
    },
    {
      "cell_type": "code",
      "source": [
        "# Visualization\n",
        "fig = plt.figure(figsize = (15, 10))\n",
        "ax1 = fig.add_subplot(2,2,1)\n",
        "ax2 = fig.add_subplot(2,2,2)\n",
        "ax3 = fig.add_subplot(2,1,2)\n",
        "# line plot\n",
        "N = len(df_len)\n",
        "x = np.linspace(0, N, N)\n",
        "ax1.plot(x, df_len, color = \"black\", linewidth = 1)\n",
        "ax1.set_ylabel(\"number of tokens\")\n",
        "# histogram\n",
        "ax2.hist(df_len, bins = 100, color = \"black\")\n",
        "ax2.set_ylabel(\"number of abstracts\")\n",
        "ax2.set_xlabel(\"number of tokens\")\n",
        "# box plot\n",
        "ax3.boxplot(df_len, vert = False)\n",
        "ax3.set_xlabel(\"number of tokens\")"
      ],
      "metadata": {
        "id": "7XBSxC9jhanc",
        "colab": {
          "base_uri": "https://localhost:8080/"
        },
        "outputId": "a8e98c32-606f-47bf-98ef-4dc980e9ad12"
      },
      "id": "7XBSxC9jhanc",
      "execution_count": null,
      "outputs": [
        {
          "output_type": "execute_result",
          "data": {
            "text/plain": [
              "Text(0.5, 0, 'number of tokens')"
            ]
          },
          "metadata": {},
          "execution_count": 5
        },
        {
          "output_type": "display_data",
          "data": {
            "text/plain": [
              "<Figure size 1080x720 with 3 Axes>"
            ],
            "image/png": "[encoded data removed]"
          },
          "metadata": {
            "needs_background": "light"
          }
        }
      ]
    },
    {
      "cell_type": "markdown",
      "source": [
        "#2. Data Preprocessing"
      ],
      "metadata": {
        "id": "95t_Jp_esr0P"
      },
      "id": "95t_Jp_esr0P"
    },
    {
      "cell_type": "code",
      "execution_count": null,
      "id": "67f31b61",
      "metadata": {
        "id": "67f31b61",
        "colab": {
          "base_uri": "https://localhost:8080/"
        },
        "outputId": "e9b511a9-a55a-4221-8ecf-812d4f222de8"
      },
      "outputs": [
        {
          "output_type": "stream",
          "name": "stdout",
          "text": [
            "(15160, 2)\n",
            "(6498, 2)\n",
            "(5415, 2)\n"
          ]
        }
      ],
      "source": [
        "# split the data into training, validation and testing\n",
        "df_train_valid, df_test = train_test_split(df, test_size=0.2)\n",
        "df_train, df_valid = train_test_split(df_train_valid, test_size=0.3)\n",
        "print((df_train).shape)\n",
        "print((df_valid).shape)\n",
        "print((df_test).shape)\n",
        "\n",
        "# defines a datatype together with instructions for converting to Tensor\n",
        "TEXT = data.Field(tokenize=Tokeniser.tokenise,include_lengths = True) # use Tokeniser.py\n",
        "LABEL = data.LabelField()"
      ]
    },
    {
      "cell_type": "code",
      "source": [
        "class DataFrameDataset(data.Dataset):\n",
        "\n",
        "    def __init__(self, df, fields, is_test=False):\n",
        "        examples = []\n",
        "        for i, row in df.iterrows():\n",
        "            label = row.label if not is_test else None\n",
        "            text = row.Text\n",
        "            examples.append(data.Example.fromlist([text, label], fields))\n",
        "\n",
        "        super().__init__(examples, fields)\n",
        "\n",
        "    @staticmethod\n",
        "    def sort_key(ex):\n",
        "        return len(ex.Text)\n",
        "\n",
        "    @classmethod\n",
        "    def splits(cls, fields, train_df, val_df=None, test_df=None):\n",
        "        train_data, val_data, test_data = (None, None, None)\n",
        "        data_field = fields\n",
        "\n",
        "        if train_df is not None:\n",
        "            train_data = cls(train_df.copy(), data_field)\n",
        "        if val_df is not None:\n",
        "            val_data = cls(val_df.copy(), data_field)\n",
        "        if test_df is not None:\n",
        "            test_data = cls(test_df.copy(), data_field)\n",
        "\n",
        "        return tuple(d for d in (train_data, val_data, test_data) if d is not None)"
      ],
      "metadata": {
        "id": "YVlC_4CuyCLI"
      },
      "id": "YVlC_4CuyCLI",
      "execution_count": null,
      "outputs": []
    },
    {
      "cell_type": "code",
      "execution_count": null,
      "id": "130c530f",
      "metadata": {
        "id": "130c530f",
        "colab": {
          "base_uri": "https://localhost:8080/"
        },
        "outputId": "92a60e62-e71b-48ba-fbb6-4793c27b94f6"
      },
      "outputs": [
        {
          "output_type": "stream",
          "name": "stdout",
          "text": [
            "{'text': ['young', 'healthi', 'femal', 'present', 'acut', 'onset', 'left', 'ocular', 'pain', 'restrict', 'ocular', 'motil', 'binocular', 'diplopia', 'ct', 'imag', 'show', 'left', 'later', 'rectu', 'myositi', 'resolv', 'oral', 'corticosteroid', 'two', 'sequenti', 'relaps', 'occur', 'subsequ', 'involv', 'superior', 'rectu', 'levat', 'complex', 'follow', 'medial', 'rectu', 'biopsi', 'reveal', 'orbit', 'inflammatori', 'diseas', 'lymphocyt', ' ', 'vascul', 'detail', 'system', 'work', 'normal', 'second', 'relaps', 'seen', 'long', 'term', 'oral', 'methotrex', 'although', 'initi', 'diseas', 'remiss', ' ', 'achiev', 'drug', 'changeov', 'oral', 'azathioprin', 'abl', 'achiev', 'diseas', 'remiss', 'second', 'relaps', 'relaps', 'involv', 'side', 'contralater', 'orbit', 'affect', 'report', 'present', ' ', 'curiou', 'phenomenon', 'unilater', 'migratori', 'relaps', 'orbit', 'myositi', 'unknown', ' ', 'caus', 'recur', 'even', 'immunosuppress', 'therapi', 'highlight', 'unpredict', 'natur', 'uncommon', 'entiti', 'challeng', 'face', 'manag', 'case'], 'label': 'Orbital Diseases'}\n",
            "<class '__main__.DataFrameDataset'>\n"
          ]
        }
      ],
      "source": [
        "fields = [('text',TEXT), ('label',LABEL)]\n",
        "\n",
        "# package train_df and valid_df into {'text':Text,'label':label} format\n",
        "train_ds, valid_ds, test_ds = DataFrameDataset.splits(fields, train_df=df_train, val_df=df_valid, test_df=df_test)\n",
        "\n",
        "print(vars(train_ds[15]))\n",
        "print(type(train_ds))"
      ]
    },
    {
      "cell_type": "code",
      "execution_count": null,
      "id": "9a90ecbd",
      "metadata": {
        "id": "9a90ecbd"
      },
      "outputs": [],
      "source": [
        "TEXT.build_vocab(train_ds, \n",
        "        max_size = 25000, \n",
        "        vectors =  'glove.6B.100d',\n",
        "        unk_init = torch.Tensor.zero_)\n",
        "LABEL.build_vocab(train_ds)"
      ]
    },
    {
      "cell_type": "markdown",
      "source": [
        "#3. Define a model"
      ],
      "metadata": {
        "id": "kQCz77593jKM"
      },
      "id": "kQCz77593jKM"
    },
    {
      "cell_type": "code",
      "source": [
        "SEED = 50\n",
        "\n",
        "torch.manual_seed(SEED)\n",
        "torch.backends.cudnn.deterministic = True\n",
        "torch.backends.cudnn.benchmark = False"
      ],
      "metadata": {
        "id": "I3CPQOdX3jxP"
      },
      "id": "I3CPQOdX3jxP",
      "execution_count": null,
      "outputs": []
    },
    {
      "cell_type": "code",
      "execution_count": null,
      "id": "978cd527",
      "metadata": {
        "id": "978cd527",
        "colab": {
          "base_uri": "https://localhost:8080/"
        },
        "outputId": "5db5885d-6ebd-4a84-f9a8-9ad90817f797"
      },
      "outputs": [
        {
          "output_type": "stream",
          "name": "stdout",
          "text": [
            "cuda\n"
          ]
        }
      ],
      "source": [
        "# Hyperparameters\n",
        "BATCH_SIZE = 128\n",
        "num_epochs = 30\n",
        "learning_rate = 0.0005\n",
        "\n",
        "INPUT_DIM = len(TEXT.vocab)\n",
        "EMBEDDING_DIM = 100\n",
        "HIDDEN_DIM = 128\n",
        "OUTPUT_DIM = len(pd.Series(counts))\n",
        "N_LAYERS = 2\n",
        "BIDIRECTIONAL = True # Bidirectional LSTM\n",
        "DROPOUT = 0.5\n",
        "PAD_IDX = TEXT.vocab.stoi[TEXT.pad_token] # padding\n",
        "TRAINING_TIME_LIMIT = 3600\n",
        "\n",
        "# GPU\n",
        "device = torch.device('cuda' if torch.cuda.is_available() else 'cpu')\n",
        "print(device)\n",
        "\n",
        "# defines an iterator that batches examples of similar lengths together\n",
        "# (minimizes amount of padding needed)\n",
        "train_iterator, valid_iterator , test_iterator = data.BucketIterator.splits(\n",
        "    (train_ds, valid_ds, test_ds), \n",
        "    batch_size = BATCH_SIZE,\n",
        "    sort_within_batch = True,\n",
        "    sort_key = lambda x:len(x.text),\n",
        "    device = device)"
      ]
    },
    {
      "cell_type": "code",
      "execution_count": null,
      "id": "102484da",
      "metadata": {
        "id": "102484da"
      },
      "outputs": [],
      "source": [
        "class LSTM_net(nn.Module):\n",
        "    def __init__(self, vocab_size, embedding_dim, hidden_dim, output_dim, n_layers, \n",
        "                 bidirectional, dropout, pad_idx):\n",
        "        super().__init__()\n",
        "        self.embedding = nn.Embedding(vocab_size, embedding_dim, padding_idx = pad_idx)   \n",
        "        self.rnn = nn.LSTM(embedding_dim, \n",
        "                  hidden_dim, \n",
        "                  num_layers = n_layers, \n",
        "                  bidirectional = bidirectional, \n",
        "                  dropout = dropout) \n",
        "        self.fc = nn.Linear(hidden_dim * 2, output_dim) \n",
        "        self.dropout = nn.Dropout(dropout)\n",
        "        \n",
        "    def forward(self, text, text_lengths):\n",
        "        # text = [sentence len, batch size]\n",
        "        embedded = self.embedding(text)\n",
        "        # embedded = [seq, batch_size, embedding_dimentions]\n",
        "        # pack sequence\n",
        "        packed_embedded = nn.utils.rnn.pack_padded_sequence(embedded, text_lengths)\n",
        "        packed_output, (hidden, cell) = self.rnn(packed_embedded)\n",
        "        # packed_output = [sent len, batch size, hid dim * num directions]\n",
        "        # packed_output over padding tokens are zero tensors\n",
        "        \n",
        "        # hidden = [num layers * num directions, batch size, hid dim]\n",
        "        # cell = [num layers * num directions, batch size, hid dim]\n",
        "        \n",
        "        # concat the final forward (hidden[-2,:,:]) and backward (hidden[-1,:,:]) hidden layers\n",
        "        hidden = torch.cat([hidden[-2], hidden[-1]], dim=1)\n",
        "        hidden = self.dropout(hidden) # and apply dropout\n",
        "        output = self.fc(hidden)       \n",
        "        #hidden = [batch size, hid dim * num directions]   \n",
        "        return output"
      ]
    },
    {
      "cell_type": "code",
      "execution_count": null,
      "id": "ccb7a397",
      "metadata": {
        "id": "ccb7a397",
        "colab": {
          "base_uri": "https://localhost:8080/"
        },
        "outputId": "6b507452-5b18-46fc-8fa8-63b1f287ca81"
      },
      "outputs": [
        {
          "output_type": "stream",
          "name": "stdout",
          "text": [
            "LSTM_net(\n",
            "  (embedding): Embedding(25002, 100, padding_idx=1)\n",
            "  (rnn): LSTM(100, 128, num_layers=2, dropout=0.5, bidirectional=True)\n",
            "  (fc): Linear(in_features=256, out_features=21, bias=True)\n",
            "  (dropout): Dropout(p=0.5, inplace=False)\n",
            ")\n"
          ]
        }
      ],
      "source": [
        "# creating instance of our LSTM_net class\n",
        "model = LSTM_net(INPUT_DIM, \n",
        "            EMBEDDING_DIM, \n",
        "            HIDDEN_DIM, \n",
        "            OUTPUT_DIM, \n",
        "            N_LAYERS, \n",
        "            BIDIRECTIONAL, \n",
        "            DROPOUT, \n",
        "            PAD_IDX)\n",
        "# show the model in detail\n",
        "print(model)"
      ]
    },
    {
      "cell_type": "code",
      "source": [
        "model.to(device)\n",
        "# optimizer"
      ],
      "metadata": {
        "colab": {
          "base_uri": "https://localhost:8080/"
        },
        "id": "ICO9pU5L9KMf",
        "outputId": "251c2f13-1fea-48a7-b2ea-f02915061c7e"
      },
      "id": "ICO9pU5L9KMf",
      "execution_count": null,
      "outputs": [
        {
          "output_type": "execute_result",
          "data": {
            "text/plain": [
              "LSTM_net(\n",
              "  (embedding): Embedding(25002, 100, padding_idx=1)\n",
              "  (rnn): LSTM(100, 128, num_layers=2, dropout=0.5, bidirectional=True)\n",
              "  (fc): Linear(in_features=256, out_features=21, bias=True)\n",
              "  (dropout): Dropout(p=0.5, inplace=False)\n",
              ")"
            ]
          },
          "metadata": {},
          "execution_count": 162
        }
      ]
    },
    {
      "cell_type": "code",
      "execution_count": null,
      "id": "813c0acd",
      "metadata": {
        "id": "813c0acd",
        "outputId": "ebd94abf-3344-4f94-a1ec-dd3eb3a219c0",
        "colab": {
          "base_uri": "https://localhost:8080/"
        }
      },
      "outputs": [
        {
          "output_type": "stream",
          "name": "stdout",
          "text": [
            "pretrained_embedding: torch.Size([25002, 100])\n",
            "embedding layer inited.\n"
          ]
        }
      ],
      "source": [
        "pretrained_embeddings = TEXT.vocab.vectors\n",
        "print('pretrained_embedding:',pretrained_embeddings.shape)\n",
        "model.embedding.weight.data.copy_(pretrained_embeddings)\n",
        "print('embedding layer inited.')"
      ]
    },
    {
      "cell_type": "code",
      "execution_count": null,
      "id": "797b2223",
      "metadata": {
        "id": "797b2223",
        "outputId": "1e908fa1-5e13-42db-fee3-5efe049bf9b3",
        "colab": {
          "base_uri": "https://localhost:8080/"
        }
      },
      "outputs": [
        {
          "output_type": "stream",
          "name": "stdout",
          "text": [
            "tensor([[ 0.0000,  0.0000,  0.0000,  ...,  0.0000,  0.0000,  0.0000],\n",
            "        [ 0.0000,  0.0000,  0.0000,  ...,  0.0000,  0.0000,  0.0000],\n",
            "        [ 0.0000,  0.0000,  0.0000,  ...,  0.0000,  0.0000,  0.0000],\n",
            "        ...,\n",
            "        [ 0.0000,  0.0000,  0.0000,  ...,  0.0000,  0.0000,  0.0000],\n",
            "        [ 0.4693, -0.5872, -0.3882,  ...,  0.7132, -0.2662,  0.0541],\n",
            "        [ 0.0000,  0.0000,  0.0000,  ...,  0.0000,  0.0000,  0.0000]],\n",
            "       device='cuda:0')\n"
          ]
        }
      ],
      "source": [
        "# to initiaise padded to zeros\n",
        "model.embedding.weight.data[PAD_IDX] = torch.zeros(EMBEDDING_DIM)\n",
        "print(model.embedding.weight.data)"
      ]
    },
    {
      "cell_type": "code",
      "execution_count": null,
      "id": "16de8794",
      "metadata": {
        "id": "16de8794"
      },
      "outputs": [],
      "source": [
        "# initialize the weight (xavier)\n",
        "def init_network(model, method='xavier', exclude='embedding'):\n",
        "    for name, w in model.named_parameters():\n",
        "        if exclude not in name:\n",
        "            if 'weight' in name:\n",
        "                if method == 'xavier':\n",
        "                    nn.init.xavier_normal_(w)\n",
        "                elif method == 'kaiming':\n",
        "                    nn.init.kaiming_normal_(w)\n",
        "                else:\n",
        "                    nn.init.normal_(w)\n",
        "            elif 'bias' in name:\n",
        "                nn.init.constant_(w, 0)\n",
        "            else:\n",
        "                pass"
      ]
    },
    {
      "cell_type": "markdown",
      "source": [
        "# 4. Training Pharse"
      ],
      "metadata": {
        "id": "9azb-VFw_oYV"
      },
      "id": "9azb-VFw_oYV"
    },
    {
      "cell_type": "code",
      "source": [
        "optimizer = torch.optim.Adam(model.parameters(), lr=learning_rate, weight_decay=1e-5)"
      ],
      "metadata": {
        "id": "EWJFPwnX7--8"
      },
      "id": "EWJFPwnX7--8",
      "execution_count": null,
      "outputs": []
    },
    {
      "cell_type": "code",
      "execution_count": null,
      "id": "e3d8e7bb",
      "metadata": {
        "id": "e3d8e7bb"
      },
      "outputs": [],
      "source": [
        "def accuracy(preds, y):\n",
        "  # returns accuracy per batch, i.e. if you get 8/10 right, this returns 0.8.\n",
        "  labels = y.data.cpu().numpy()\n",
        "  predic = torch.max(preds.data, 1)[1].cpu().numpy()\n",
        "  correct = (predic == labels)\n",
        "  acc = correct.sum() / len(correct)\n",
        "  return acc"
      ]
    },
    {
      "cell_type": "code",
      "execution_count": null,
      "id": "82c1afd7",
      "metadata": {
        "id": "82c1afd7"
      },
      "outputs": [],
      "source": [
        "# training function for each epoch\n",
        "def train(model, iterator):\n",
        "    model.train()\n",
        "\n",
        "    epoch_loss = 0\n",
        "    epoch_acc = 0\n",
        "    \n",
        "    for batch in iterator:\n",
        "        text, text_lengths = batch.text\n",
        "        labels = batch.label\n",
        "\n",
        "        optimizer.zero_grad()\n",
        "        predictions = model(text, text_lengths.to('cpu')).squeeze(1)\n",
        "        loss = nn.functional.cross_entropy(predictions,labels)\n",
        "\n",
        "        acc = accuracy(predictions, labels)\n",
        "\n",
        "        loss.backward()\n",
        "        optimizer.step()\n",
        "        \n",
        "        epoch_loss += loss.item()\n",
        "        epoch_acc += acc.item()\n",
        "        \n",
        "\n",
        "    return epoch_loss / len(iterator), epoch_acc / len(iterator)"
      ]
    },
    {
      "cell_type": "code",
      "execution_count": null,
      "id": "5c9a565d",
      "metadata": {
        "id": "5c9a565d"
      },
      "outputs": [],
      "source": [
        "# training evaluation for each epoch\n",
        "def evaluate(model, iterator):\n",
        "  epoch_acc = 0\n",
        "  model.eval()\n",
        "  loss_total = 0\n",
        "  predict_all = np.array([], dtype=int)\n",
        "  labels_all = np.array([], dtype=int)  \n",
        "  \n",
        "  with torch.no_grad():\n",
        "    for batch in iterator:\n",
        "      text, text_lengths = batch.text\n",
        "      labels = batch.label    \n",
        "      predictions = model(text, text_lengths.to('cpu')).squeeze(1)\n",
        "      acc = accuracy(predictions, labels)\n",
        "      epoch_acc += acc.item()\n",
        "\n",
        "      label_in_test = labels.data.cpu().numpy()\n",
        "      predict_in_test = torch.max(predictions.data, 1)[1].cpu().numpy()\n",
        "      labels_all = np.append(labels_all, label_in_test)\n",
        "      predict_all = np.append(predict_all, predict_in_test)\n",
        "\n",
        "    f1score = f1_score(labels_all, predict_all, average='weighted')\n",
        "  return epoch_acc / len(iterator), f1score"
      ]
    },
    {
      "cell_type": "code",
      "execution_count": null,
      "id": "e1487e5d",
      "metadata": {
        "id": "e1487e5d"
      },
      "outputs": [],
      "source": [
        "def all_train(model):\n",
        "  init_network(model)\n",
        "  t = time.time()\n",
        "  loss=[]\n",
        "  acc=[]\n",
        "  val_acc=[]\n",
        "  path = '/content/drive/My Drive/nlp-week1/save model/'\n",
        "\n",
        "  for epoch in range(num_epochs):\n",
        "\n",
        "    best_f1_score = 0\n",
        "    train_loss, train_acc = train(model, train_iterator)\n",
        "    valid_acc, f1_score = evaluate(model, valid_iterator)\n",
        "    \n",
        "    print(f'\\tTrain Loss: {train_loss:.3f} | Train Acc: {train_acc*100:.2f}% | Val F1 Score: {f1_score*100:.2f}%')\n",
        "    print(f'\\t Val. Acc: {valid_acc*100:.2f}%')\n",
        "    \n",
        "    loss.append(train_loss)\n",
        "    acc.append(train_acc)\n",
        "    val_acc.append(valid_acc)\n",
        "    \n",
        "    print(f'time:{time.time()-t:.3f}')\n",
        "\n",
        "    if best_f1_score < f1_score:\n",
        "      best_f1_score = f1_score\n",
        "      print('model is improved.')\n",
        "      non_improved_epoch = 0\n",
        "      torch.save({\"model\": model.state_dict(),\n",
        "            \"best_f1_score\": best_f1_score, \n",
        "            \"epoch\": epoch}, path + 'retina_epoch{}_score{:.5f}.pth'.format(epoch, f1_score)) # save the model with better performance\n",
        "    else: \n",
        "      non_improved_epoch += 1\n",
        "\n",
        "    if non_improved_epoch > 10:\n",
        "        break\n",
        "        print(\"Early stopping\")\n",
        "    if time.time() - t > TRAINING_TIME_LIMIT:\n",
        "      break\n",
        "      print(\"It's out of time.\")\n",
        "  return loss, acc, val_acc"
      ]
    },
    {
      "cell_type": "code",
      "source": [
        "def plot_loss_acc(loss, acc, val_acc):\n",
        "  host = host_subplot(111)\n",
        "  plt.subplots_adjust(right=0.8) # adjust the right boundary of the plot window\n",
        "  par1 = host.twinx()\n",
        "  # set labels\n",
        "  host.set_xlabel(\"iterations\")\n",
        "  host.set_ylabel(\"loss\")\n",
        "  par1.set_ylabel(\"validation accuracy\")\n",
        "  number_iterators = len(loss)\n",
        " \n",
        "  # plot curves\n",
        "  p1, = host.plot(range(1,number_iterators+1), loss, label=\"training loss\")\n",
        "  p2, = par1.plot(range(1,number_iterators+1), acc, label=\"training accuracy\")\n",
        "  p3, = par1.plot(range(1,number_iterators+1), val_acc, label=\"validation accuracy\")\n",
        " \n",
        "  # set location of the legend, \n",
        "  # 1->rightup corner, 2->leftup corner, 3->leftdown corner\n",
        "  # 4->rightdown corner, 5->rightmid ...\n",
        "  host.legend(loc=5)\n",
        " \n",
        "  # set label color\n",
        "  host.axis[\"left\"].label.set_color(p1.get_color())\n",
        "  par1.axis[\"right\"].label.set_color(p2.get_color())\n",
        "\n",
        "  # set the range of x axis of host and y axis of par1\n",
        "  host.set_xlim([-1, num_epochs])\n",
        "  par1.set_ylim([0., 1.05])\n",
        " \n",
        "  plt.draw()\n",
        "  plt.show()"
      ],
      "metadata": {
        "id": "0l-djds9S3yU"
      },
      "id": "0l-djds9S3yU",
      "execution_count": null,
      "outputs": []
    },
    {
      "cell_type": "code",
      "source": [
        "train_loss, train_acc, val_acc = all_train(model)"
      ],
      "metadata": {
        "colab": {
          "base_uri": "https://localhost:8080/"
        },
        "id": "mWd_TN5nTT8o",
        "outputId": "14f2e5b7-43a6-4707-ce6b-05518d17c84c"
      },
      "id": "mWd_TN5nTT8o",
      "execution_count": null,
      "outputs": [
        {
          "output_type": "stream",
          "name": "stdout",
          "text": [
            "\tTrain Loss: 2.721 | Train Acc: 18.74% | Val F1 Score: 18.96%\n",
            "\t Val. Acc: 29.14%\n",
            "time:4.775\n",
            "\tTrain Loss: 2.161 | Train Acc: 38.00% | Val F1 Score: 37.61%\n",
            "\t Val. Acc: 46.29%\n",
            "time:9.408\n",
            "\tTrain Loss: 1.750 | Train Acc: 49.93% | Val F1 Score: 45.16%\n",
            "\t Val. Acc: 50.46%\n",
            "time:14.227\n",
            "\tTrain Loss: 1.506 | Train Acc: 56.71% | Val F1 Score: 51.56%\n",
            "\t Val. Acc: 55.14%\n",
            "time:19.039\n",
            "\tTrain Loss: 1.325 | Train Acc: 62.00% | Val F1 Score: 57.02%\n",
            "\t Val. Acc: 60.05%\n",
            "time:24.107\n",
            "\tTrain Loss: 1.133 | Train Acc: 67.67% | Val F1 Score: 60.54%\n",
            "\t Val. Acc: 63.15%\n",
            "time:29.696\n",
            "\tTrain Loss: 0.988 | Train Acc: 71.75% | Val F1 Score: 64.05%\n",
            "\t Val. Acc: 65.36%\n",
            "time:34.390\n",
            "\tTrain Loss: 0.973 | Train Acc: 72.48% | Val F1 Score: 64.49%\n",
            "\t Val. Acc: 65.58%\n",
            "time:39.050\n",
            "\tTrain Loss: 0.792 | Train Acc: 78.18% | Val F1 Score: 65.71%\n",
            "\t Val. Acc: 66.72%\n",
            "time:43.832\n",
            "\tTrain Loss: 0.693 | Train Acc: 80.78% | Val F1 Score: 67.16%\n",
            "\t Val. Acc: 68.17%\n",
            "time:48.592\n",
            "\tTrain Loss: 0.610 | Train Acc: 83.00% | Val F1 Score: 67.36%\n",
            "\t Val. Acc: 68.45%\n",
            "time:53.315\n",
            "\tTrain Loss: 0.557 | Train Acc: 84.42% | Val F1 Score: 67.57%\n",
            "\t Val. Acc: 68.13%\n",
            "time:58.117\n",
            "\tTrain Loss: 0.472 | Train Acc: 87.49% | Val F1 Score: 67.48%\n",
            "\t Val. Acc: 68.54%\n",
            "time:62.900\n",
            "\tTrain Loss: 0.407 | Train Acc: 89.16% | Val F1 Score: 68.04%\n",
            "\t Val. Acc: 68.75%\n",
            "time:67.638\n",
            "\tTrain Loss: 0.370 | Train Acc: 90.12% | Val F1 Score: 68.34%\n",
            "\t Val. Acc: 68.79%\n",
            "time:72.372\n",
            "\tTrain Loss: 0.373 | Train Acc: 89.82% | Val F1 Score: 68.49%\n",
            "\t Val. Acc: 69.22%\n",
            "time:77.238\n",
            "\tTrain Loss: 0.304 | Train Acc: 91.63% | Val F1 Score: 69.01%\n",
            "\t Val. Acc: 69.56%\n",
            "time:81.962\n",
            "\tTrain Loss: 0.272 | Train Acc: 92.76% | Val F1 Score: 68.36%\n",
            "\t Val. Acc: 68.76%\n",
            "time:86.699\n",
            "\tTrain Loss: 0.237 | Train Acc: 93.78% | Val F1 Score: 68.42%\n",
            "\t Val. Acc: 68.85%\n",
            "time:91.402\n",
            "\tTrain Loss: 0.202 | Train Acc: 94.86% | Val F1 Score: 68.65%\n",
            "\t Val. Acc: 69.02%\n",
            "time:97.107\n",
            "\tTrain Loss: 0.191 | Train Acc: 94.94% | Val F1 Score: 68.65%\n",
            "\t Val. Acc: 69.05%\n",
            "time:102.103\n",
            "\tTrain Loss: 0.179 | Train Acc: 95.21% | Val F1 Score: 67.48%\n",
            "\t Val. Acc: 67.50%\n",
            "time:106.971\n",
            "\tTrain Loss: 0.170 | Train Acc: 95.56% | Val F1 Score: 68.02%\n",
            "\t Val. Acc: 68.21%\n",
            "time:111.700\n",
            "\tTrain Loss: 0.140 | Train Acc: 96.37% | Val F1 Score: 68.67%\n",
            "\t Val. Acc: 68.67%\n",
            "time:116.414\n",
            "\tTrain Loss: 0.132 | Train Acc: 96.44% | Val F1 Score: 69.19%\n",
            "\t Val. Acc: 69.33%\n",
            "time:121.184\n",
            "\tTrain Loss: 0.120 | Train Acc: 97.01% | Val F1 Score: 68.60%\n",
            "\t Val. Acc: 68.88%\n",
            "time:126.093\n",
            "\tTrain Loss: 0.137 | Train Acc: 96.34% | Val F1 Score: 67.51%\n",
            "\t Val. Acc: 67.86%\n",
            "time:130.833\n",
            "\tTrain Loss: 0.116 | Train Acc: 97.00% | Val F1 Score: 68.43%\n",
            "\t Val. Acc: 68.55%\n",
            "time:135.651\n",
            "\tTrain Loss: 0.105 | Train Acc: 97.16% | Val F1 Score: 68.58%\n",
            "\t Val. Acc: 68.62%\n",
            "time:140.432\n",
            "\tTrain Loss: 0.079 | Train Acc: 97.95% | Val F1 Score: 68.80%\n",
            "\t Val. Acc: 68.79%\n",
            "time:145.157\n"
          ]
        }
      ]
    },
    {
      "cell_type": "code",
      "source": [
        "plot_loss_acc(train_loss, train_acc, val_acc)"
      ],
      "metadata": {
        "id": "4SMJ3awuUWNC",
        "colab": {
          "base_uri": "https://localhost:8080/",
          "height": 279
        },
        "outputId": "0036fe43-8571-4f81-f1e6-ae194c9fcb42"
      },
      "id": "4SMJ3awuUWNC",
      "execution_count": null,
      "outputs": [
        {
          "output_type": "display_data",
          "data": {
            "text/plain": [
              "<Figure size 432x288 with 1 Axes>"
            ],
            "image/png": "[encoded data removed]"
          },
          "metadata": {
            "needs_background": "light"
          }
        }
      ]
    },
    {
      "cell_type": "markdown",
      "source": [
        "# 5. Testing Pharse"
      ],
      "metadata": {
        "id": "lAfOvnyL_wKF"
      },
      "id": "lAfOvnyL_wKF"
    },
    {
      "cell_type": "code",
      "source": [
        "path = '/content/drive/My Drive/nlp-week1/save model/'"
      ],
      "metadata": {
        "id": "kxL3k1X--vja"
      },
      "id": "kxL3k1X--vja",
      "execution_count": null,
      "outputs": []
    },
    {
      "cell_type": "code",
      "execution_count": null,
      "id": "e618611d",
      "metadata": {
        "id": "e618611d"
      },
      "outputs": [],
      "source": [
        "def test(model):\n",
        "  model.load_state_dict(torch.load(path + 'retina_epoch24_score0.69185.pth')['model']) # choose the paramters in the model with the best performace\n",
        "  model.eval()\n",
        "  start_time = time.time()\n",
        "  acc=[]\n",
        "  f1s=[]\n",
        "\n",
        "  for epoch in range(num_epochs):\n",
        "    test_acc, f1_score = evaluate(model, test_iterator)\n",
        "    acc.append(test_acc)\n",
        "    f1s.append(f1_score)\n",
        "  print(f'time:{time.time()-start_time:.3f}')\n",
        "  return print(f'\\tTest Accuracy: {np.mean(acc)*100:.2f}% | Test F1 Score: {np.mean(f1s)*100:.2f}%)')"
      ]
    },
    {
      "cell_type": "code",
      "source": [
        "test(model)"
      ],
      "metadata": {
        "id": "iYgZZp3QuOnc",
        "colab": {
          "base_uri": "https://localhost:8080/"
        },
        "outputId": "1fa07528-3bc0-481c-b562-a8929544b199"
      },
      "id": "iYgZZp3QuOnc",
      "execution_count": null,
      "outputs": [
        {
          "output_type": "stream",
          "name": "stdout",
          "text": [
            "time:15.547\n",
            "\tTest Accuracy: 69.64% | Test F1 Score: 69.63%)\n"
          ]
        }
      ]
    }
  ],
  "metadata": {
    "kernelspec": {
      "display_name": "Python 3",
      "language": "python",
      "name": "python3"
    },
    "language_info": {
      "codemirror_mode": {
        "name": "ipython",
        "version": 3
      },
      "file_extension": ".py",
      "mimetype": "text/x-python",
      "name": "python",
      "nbconvert_exporter": "python",
      "pygments_lexer": "ipython3",
      "version": "3.8.8"
    },
    "colab": {
      "provenance": [],
      "collapsed_sections": [
        "lAfOvnyL_wKF"
      ],
      "include_colab_link": true
    },
    "accelerator": "GPU",
    "gpuClass": "standard"
  },
  "nbformat": 4,
  "nbformat_minor": 5
}